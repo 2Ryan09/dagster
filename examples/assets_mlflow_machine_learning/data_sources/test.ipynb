{
 "cells": [
  {
   "cell_type": "code",
   "execution_count": 2,
   "metadata": {},
   "outputs": [],
   "source": [
    "import pickle \n",
    "def transformed_training_data():\n",
    "    return pickle.load(open('transformed_test_data', 'rb'))\n",
    "\n",
    "\n",
    "def transformed_test_data():\n",
    "   return pickle.load(open('transformed_test_data', 'rb'))\n",
    "    \n",
    "\n",
    "def tfidf_vectorizer():\n",
    "    return pickle.load(open('tfidf_vectorizer', 'rb'))\n",
    "transformed_training_data= transformed_training_data()\n",
    "transformed_test_data= transformed_test_data()\n",
    "tfidf_vectorizer = tfidf_vectorizer()"
   ]
  },
  {
   "cell_type": "code",
   "execution_count": 4,
   "metadata": {},
   "outputs": [],
   "source": [
    "import mlflow \n",
    "transformed_X_train, transformed_y_train = transformed_training_data\n",
    "transformed_X_test, transformed_y_test = transformed_test_data\n",
    "# Train XGBoost model, which is a highly efficient and flexible model\n",
    "\n",
    "import requests\n",
    "from dagster import asset, Output, MetadataValue, SourceAsset\n",
    "import pandas as pd \n",
    "import xgboost as xgb\n",
    "from sklearn.metrics import mean_squared_error, mean_absolute_error\n",
    "import mlflow\n",
    "import mlflow.xgboost\n",
    "import mlflow.pyfunc\n",
    "import os\n",
    "import numpy as np "
   ]
  },
  {
   "cell_type": "code",
   "execution_count": 8,
   "metadata": {},
   "outputs": [
    {
     "name": "stderr",
     "output_type": "stream",
     "text": [
      "2023/06/14 10:58:21 WARNING mlflow.utils.autologging_utils: You are using an unsupported version of xgboost. If you encounter errors during autologging, try upgrading / downgrading xgboost to a supported version, or try upgrading MLflow.\n",
      "2023/06/14 10:58:21 INFO mlflow.utils.autologging_utils: Created MLflow autologging run with ID 'c9bdaa6ecb0242d59b88c0380bb627c5', which will track hyperparameters, performance metrics, model artifacts, and lineage information for the current xgboost workflow\n"
     ]
    },
    {
     "name": "stdout",
     "output_type": "stream",
     "text": [
      "[0]\tvalidation_0-rmse:26.01777\tvalidation_0-mean_absolute_error:7.83110\n",
      "[1]\tvalidation_0-rmse:22.51945\tvalidation_0-mean_absolute_error:7.30936\n",
      "[2]\tvalidation_0-rmse:19.64709\tvalidation_0-mean_absolute_error:6.87337\n",
      "[3]\tvalidation_0-rmse:16.62157\tvalidation_0-mean_absolute_error:5.94211\n",
      "[4]\tvalidation_0-rmse:14.63776\tvalidation_0-mean_absolute_error:5.58034\n",
      "[5]\tvalidation_0-rmse:12.57763\tvalidation_0-mean_absolute_error:4.87903\n",
      "[6]\tvalidation_0-rmse:11.18790\tvalidation_0-mean_absolute_error:4.61653\n",
      "[7]\tvalidation_0-rmse:9.74143\tvalidation_0-mean_absolute_error:4.12668\n",
      "[8]\tvalidation_0-rmse:8.32165\tvalidation_0-mean_absolute_error:3.55375\n",
      "[9]\tvalidation_0-rmse:7.48468\tvalidation_0-mean_absolute_error:3.37099\n",
      "[10]\tvalidation_0-rmse:6.44283\tvalidation_0-mean_absolute_error:2.91387\n",
      "[11]\tvalidation_0-rmse:5.82861\tvalidation_0-mean_absolute_error:2.73154\n",
      "[12]\tvalidation_0-rmse:5.24766\tvalidation_0-mean_absolute_error:2.53200\n",
      "[13]\tvalidation_0-rmse:4.66097\tvalidation_0-mean_absolute_error:2.30953\n",
      "[14]\tvalidation_0-rmse:4.19941\tvalidation_0-mean_absolute_error:2.13089\n",
      "[15]\tvalidation_0-rmse:3.74509\tvalidation_0-mean_absolute_error:1.94560\n",
      "[16]\tvalidation_0-rmse:3.43565\tvalidation_0-mean_absolute_error:1.83684\n",
      "[17]\tvalidation_0-rmse:3.09593\tvalidation_0-mean_absolute_error:1.69983\n",
      "[18]\tvalidation_0-rmse:2.81983\tvalidation_0-mean_absolute_error:1.59225\n",
      "[19]\tvalidation_0-rmse:2.56197\tvalidation_0-mean_absolute_error:1.48084\n"
     ]
    },
    {
     "name": "stderr",
     "output_type": "stream",
     "text": [
      "2023/06/14 10:58:22 WARNING mlflow.utils.autologging_utils: MLflow autologging encountered a warning: \"/Users/odetteharary/opt/anaconda3/envs/machine_learning3/lib/python3.9/site-packages/xgboost/sklearn.py:761: UserWarning: eval_metric is not saved in Scikit-Learn meta.\"\n"
     ]
    }
   ],
   "source": [
    "\n",
    "\n",
    "mlflow.xgboost.autolog()\n",
    "mlflow.set_experiment(\"my-experiment\")\n",
    "\n",
    "xgb_regressor = xgb.XGBRegressor(\n",
    "    objective=\"reg:squarederror\", eval_metric=mean_absolute_error, n_estimators=20\n",
    ")\n",
    "xgb_regressor.fit(transformed_X_train, transformed_y_train, eval_set=[(transformed_X_test, transformed_y_test)])\n",
    "\n",
    "experiment_id = mlflow.get_experiment_by_name(\"my-experiment\").experiment_id\n",
    "run_id = mlflow.last_active_run().info.run_id\n",
    "my_run = mlflow.get_run(run_id).to_dictionary()\n",
    "my_metadata = my_run['data']['metrics']\n",
    "\n",
    "    # cmd = f'mlflow ui --port {PORT}'\n",
    "    # os.system(cmd)\n",
    "\n",
    "    # url = f\"http://127.0.0.1:{PORT}\"\n",
    "    # link = f\"{url}/#/experiments/{experiment_id}/runs/{run_id}\"\n",
    "    # my_metadata[\"mlflow link\"] = MetadataValue.url(link)\n"
   ]
  },
  {
   "cell_type": "code",
   "execution_count": 7,
   "metadata": {},
   "outputs": [
    {
     "ename": "ImportError",
     "evalue": "cannot import name 'MlflowClient' from 'mlflow' (/Users/odetteharary/opt/anaconda3/envs/machine_learning3/lib/python3.9/site-packages/mlflow/__init__.py)",
     "output_type": "error",
     "traceback": [
      "\u001b[0;31m---------------------------------------------------------------------------\u001b[0m",
      "\u001b[0;31mImportError\u001b[0m                               Traceback (most recent call last)",
      "Cell \u001b[0;32mIn[7], line 1\u001b[0m\n\u001b[0;32m----> 1\u001b[0m \u001b[39mfrom\u001b[39;00m \u001b[39mmlflow\u001b[39;00m \u001b[39mimport\u001b[39;00m MlflowClient\n\u001b[1;32m      3\u001b[0m MlflowClient\n",
      "\u001b[0;31mImportError\u001b[0m: cannot import name 'MlflowClient' from 'mlflow' (/Users/odetteharary/opt/anaconda3/envs/machine_learning3/lib/python3.9/site-packages/mlflow/__init__.py)"
     ]
    }
   ],
   "source": [
    "from mlflow import MlflowClient\n",
    "\n",
    "MlflowClient"
   ]
  },
  {
   "cell_type": "code",
   "execution_count": null,
   "metadata": {},
   "outputs": [],
   "source": []
  }
 ],
 "metadata": {
  "kernelspec": {
   "display_name": "machine_learning3",
   "language": "python",
   "name": "python3"
  },
  "language_info": {
   "codemirror_mode": {
    "name": "ipython",
    "version": 3
   },
   "file_extension": ".py",
   "mimetype": "text/x-python",
   "name": "python",
   "nbconvert_exporter": "python",
   "pygments_lexer": "ipython3",
   "version": "3.9.16"
  },
  "orig_nbformat": 4,
  "vscode": {
   "interpreter": {
    "hash": "02b9241e997988c51d51187f33b3030e15bc3ba0975de64a5e1ab77aca21d0a5"
   }
  }
 },
 "nbformat": 4,
 "nbformat_minor": 2
}
